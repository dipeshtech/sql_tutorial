{
 "cells": [
  {
   "cell_type": "markdown",
   "metadata": {},
   "source": [
    "## Install"
   ]
  },
  {
   "cell_type": "code",
   "execution_count": 1,
   "metadata": {},
   "outputs": [],
   "source": [
    "# !pip install duckdb"
   ]
  },
  {
   "cell_type": "code",
   "execution_count": 2,
   "metadata": {},
   "outputs": [],
   "source": [
    "# !pip install jupysql pandas matplotlib duckdb-engine"
   ]
  },
  {
   "cell_type": "code",
   "execution_count": 13,
   "metadata": {},
   "outputs": [],
   "source": [
    "import duckdb\n",
    "import pandas as pd\n",
    "\n"
   ]
  },
  {
   "cell_type": "markdown",
   "metadata": {},
   "source": []
  },
  {
   "cell_type": "code",
   "execution_count": 14,
   "metadata": {},
   "outputs": [],
   "source": [
    "test_df = pd.DataFrame({'a' : [1, 2, 3]})\n"
   ]
  },
  {
   "cell_type": "code",
   "execution_count": 15,
   "metadata": {},
   "outputs": [
    {
     "name": "stdout",
     "output_type": "stream",
     "text": [
      "   sum(a)\n",
      "0     6.0\n"
     ]
    }
   ],
   "source": [
    "print(duckdb.query(\"SELECT sum(a) FROM test_df\").to_df())"
   ]
  },
  {
   "cell_type": "markdown",
   "metadata": {},
   "source": [
    "### Import a CSV"
   ]
  },
  {
   "cell_type": "code",
   "execution_count": 17,
   "metadata": {},
   "outputs": [],
   "source": [
    "power_plant_raw_df = pd.read_csv(\"power-plant-generation-history.csv\")"
   ]
  },
  {
   "cell_type": "code",
   "execution_count": 18,
   "metadata": {},
   "outputs": [],
   "source": [
    "\n",
    "query1 = \"\"\"\n",
    "SELECT\n",
    "    *\n",
    "FROM power_plant_raw_df\n",
    "limit 5\n",
    "\"\"\""
   ]
  },
  {
   "cell_type": "code",
   "execution_count": 19,
   "metadata": {},
   "outputs": [
    {
     "name": "stdout",
     "output_type": "stream",
     "text": [
      "      MWh        Date   Plant\n",
      "0  564337  2019-01-02  Boston\n",
      "1  507405  2019-01-03  Boston\n",
      "2  528523  2019-01-04  Boston\n",
      "3  469538  2019-01-05  Boston\n",
      "4  474163  2019-01-06  Boston\n"
     ]
    }
   ],
   "source": [
    "print(duckdb.sql(query1).df())"
   ]
  },
  {
   "cell_type": "markdown",
   "metadata": {},
   "source": [
    "## Let's try some analytical functions"
   ]
  },
  {
   "cell_type": "markdown",
   "metadata": {},
   "source": [
    "### The simplest window function is the row_number"
   ]
  },
  {
   "cell_type": "code",
   "execution_count": 21,
   "metadata": {},
   "outputs": [
    {
     "name": "stdout",
     "output_type": "stream",
     "text": [
      "        Plant        Date     MWh  Row\n",
      "0      Boston  2019-01-02  564337    1\n",
      "1      Boston  2019-01-03  507405    2\n",
      "2      Boston  2019-01-04  528523    3\n",
      "3      Boston  2019-01-05  469538    4\n",
      "4      Boston  2019-01-06  474163    5\n",
      "5      Boston  2019-01-07  507213    6\n",
      "6      Boston  2019-01-08  613040    7\n",
      "7      Boston  2019-01-09  582588    8\n",
      "8      Boston  2019-01-10  499506    9\n",
      "9      Boston  2019-01-11  482014   10\n",
      "10     Boston  2019-01-12  486134   11\n",
      "11     Boston  2019-01-13  531518   12\n",
      "12  Worcester  2019-01-02  118860    1\n",
      "13  Worcester  2019-01-03  101977    2\n",
      "14  Worcester  2019-01-04  106054    3\n",
      "15  Worcester  2019-01-05   92182    4\n",
      "16  Worcester  2019-01-06   94492    5\n",
      "17  Worcester  2019-01-07   99932    6\n",
      "18  Worcester  2019-01-08  118854    7\n",
      "19  Worcester  2019-01-09  113506    8\n",
      "20  Worcester  2019-01-10   96644    9\n",
      "21  Worcester  2019-01-11   93806   10\n",
      "22  Worcester  2019-01-12   98963   11\n",
      "23  Worcester  2019-01-13  107170   12\n"
     ]
    }
   ],
   "source": [
    "\n",
    "query2 = \"\"\"\n",
    "SELECT\n",
    "    \"Plant\",\n",
    "    \"Date\",\n",
    "    \"MWh\",\n",
    "    row_number() OVER (PARTITION BY \"Plant\" ORDER  BY \"Date\") AS \"Row\"\n",
    "FROM power_plant_raw_df\n",
    "ORDER BY 1, 2;\n",
    "\"\"\"\n",
    "print(duckdb.sql(query2).df())"
   ]
  },
  {
   "cell_type": "markdown",
   "metadata": {},
   "source": [
    "### query to find the highest MWh reading for each plant:"
   ]
  },
  {
   "cell_type": "code",
   "execution_count": 22,
   "metadata": {},
   "outputs": [
    {
     "name": "stdout",
     "output_type": "stream",
     "text": [
      "       Plant        Date     MWh\n",
      "0     Boston  2019-01-08  613040\n",
      "1  Worcester  2019-01-02  118860\n"
     ]
    }
   ],
   "source": [
    "query2 = \"\"\"\n",
    "WITH numbered_readings AS (\n",
    "    SELECT \n",
    "        \"Plant\", \n",
    "        \"Date\", \n",
    "        \"MWh\",\n",
    "        ROW_NUMBER() OVER (PARTITION BY \"Plant\" ORDER BY \"MWh\" DESC) AS \"MWhRank\"\n",
    "    FROM \n",
    "        power_plant_raw_df\n",
    ")\n",
    "SELECT \"Plant\", \"Date\", \"MWh\"\n",
    "FROM numbered_readings\n",
    "WHERE \"MWhRank\" = 1\n",
    "ORDER BY \"Plant\";\n",
    "\"\"\"\n",
    "print(duckdb.sql(query2).df())"
   ]
  },
  {
   "cell_type": "markdown",
   "metadata": {},
   "source": []
  },
  {
   "cell_type": "code",
   "execution_count": 23,
   "metadata": {},
   "outputs": [
    {
     "name": "stdout",
     "output_type": "stream",
     "text": [
      "        Plant        Date     MWh  Running_Total_MWh\n",
      "0      Boston  2019-01-02  564337           564337.0\n",
      "1      Boston  2019-01-03  507405          1071742.0\n",
      "2      Boston  2019-01-04  528523          1600265.0\n",
      "3      Boston  2019-01-05  469538          2069803.0\n",
      "4      Boston  2019-01-06  474163          2543966.0\n",
      "5      Boston  2019-01-07  507213          3051179.0\n",
      "6      Boston  2019-01-08  613040          3664219.0\n",
      "7      Boston  2019-01-09  582588          4246807.0\n",
      "8      Boston  2019-01-10  499506          4746313.0\n",
      "9      Boston  2019-01-11  482014          5228327.0\n",
      "10     Boston  2019-01-12  486134          5714461.0\n",
      "11     Boston  2019-01-13  531518          6245979.0\n",
      "12  Worcester  2019-01-02  118860           118860.0\n",
      "13  Worcester  2019-01-03  101977           220837.0\n",
      "14  Worcester  2019-01-04  106054           326891.0\n",
      "15  Worcester  2019-01-05   92182           419073.0\n",
      "16  Worcester  2019-01-06   94492           513565.0\n",
      "17  Worcester  2019-01-07   99932           613497.0\n",
      "18  Worcester  2019-01-08  118854           732351.0\n",
      "19  Worcester  2019-01-09  113506           845857.0\n",
      "20  Worcester  2019-01-10   96644           942501.0\n",
      "21  Worcester  2019-01-11   93806          1036307.0\n",
      "22  Worcester  2019-01-12   98963          1135270.0\n",
      "23  Worcester  2019-01-13  107170          1242440.0\n"
     ]
    }
   ],
   "source": [
    "#Running Total of MWh\n",
    "query1 = \"\"\"\n",
    "SELECT \n",
    "    \"Plant\", \n",
    "    \"Date\", \n",
    "    \"MWh\",\n",
    "    SUM(\"MWh\") OVER (PARTITION BY \"Plant\" ORDER BY \"Date\") AS \"Running_Total_MWh\"\n",
    "FROM \n",
    "    power_plant_raw_df\n",
    "ORDER BY \n",
    "    \"Plant\", \n",
    "    \"Date\";\n",
    "\"\"\"\n",
    "print(duckdb.sql(query1).df())"
   ]
  },
  {
   "cell_type": "code",
   "execution_count": 24,
   "metadata": {},
   "outputs": [
    {
     "name": "stdout",
     "output_type": "stream",
     "text": [
      "        Plant        Date     MWh  Avg_Plant_MWh    MWh_vs_Avg\n",
      "0      Boston  2019-01-02  564337  520498.250000  43838.750000\n",
      "1      Boston  2019-01-03  507405  520498.250000 -13093.250000\n",
      "2      Boston  2019-01-04  528523  520498.250000   8024.750000\n",
      "3      Boston  2019-01-05  469538  520498.250000 -50960.250000\n",
      "4      Boston  2019-01-06  474163  520498.250000 -46335.250000\n",
      "5      Boston  2019-01-07  507213  520498.250000 -13285.250000\n",
      "6      Boston  2019-01-08  613040  520498.250000  92541.750000\n",
      "7      Boston  2019-01-09  582588  520498.250000  62089.750000\n",
      "8      Boston  2019-01-10  499506  520498.250000 -20992.250000\n",
      "9      Boston  2019-01-11  482014  520498.250000 -38484.250000\n",
      "10     Boston  2019-01-12  486134  520498.250000 -34364.250000\n",
      "11     Boston  2019-01-13  531518  520498.250000  11019.750000\n",
      "12  Worcester  2019-01-02  118860  103536.666667  15323.333333\n",
      "13  Worcester  2019-01-03  101977  103536.666667  -1559.666667\n",
      "14  Worcester  2019-01-04  106054  103536.666667   2517.333333\n",
      "15  Worcester  2019-01-05   92182  103536.666667 -11354.666667\n",
      "16  Worcester  2019-01-06   94492  103536.666667  -9044.666667\n",
      "17  Worcester  2019-01-07   99932  103536.666667  -3604.666667\n",
      "18  Worcester  2019-01-08  118854  103536.666667  15317.333333\n",
      "19  Worcester  2019-01-09  113506  103536.666667   9969.333333\n",
      "20  Worcester  2019-01-10   96644  103536.666667  -6892.666667\n",
      "21  Worcester  2019-01-11   93806  103536.666667  -9730.666667\n",
      "22  Worcester  2019-01-12   98963  103536.666667  -4573.666667\n",
      "23  Worcester  2019-01-13  107170  103536.666667   3633.333333\n"
     ]
    }
   ],
   "source": [
    "#Daily MWh Compared to Plant's Average\n",
    "query2 = \"\"\"\n",
    "SELECT \n",
    "    \"Plant\", \n",
    "    \"Date\", \n",
    "    \"MWh\",\n",
    "    AVG(\"MWh\") OVER (PARTITION BY \"Plant\") AS \"Avg_Plant_MWh\",\n",
    "    \"MWh\" - AVG(\"MWh\") OVER (PARTITION BY \"Plant\") AS \"MWh_vs_Avg\"\n",
    "FROM \n",
    "    power_plant_raw_df\n",
    "ORDER BY \n",
    "    \"Plant\", \n",
    "    \"Date\";\n",
    "\"\"\"\n",
    "print(duckdb.sql(query2).df())"
   ]
  },
  {
   "cell_type": "code",
   "execution_count": null,
   "metadata": {},
   "outputs": [],
   "source": []
  }
 ],
 "metadata": {
  "kernelspec": {
   "display_name": "llm_ai_eng",
   "language": "python",
   "name": "python3"
  },
  "language_info": {
   "codemirror_mode": {
    "name": "ipython",
    "version": 3
   },
   "file_extension": ".py",
   "mimetype": "text/x-python",
   "name": "python",
   "nbconvert_exporter": "python",
   "pygments_lexer": "ipython3",
   "version": "3.12.3"
  }
 },
 "nbformat": 4,
 "nbformat_minor": 2
}
